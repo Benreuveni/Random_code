{
 "cells": [
  {
   "cell_type": "markdown",
   "metadata": {},
   "source": [
    "A function that can print out a board."
   ]
  },
  {
   "cell_type": "code",
   "execution_count": 1,
   "metadata": {},
   "outputs": [],
   "source": [
    "from IPython.display import clear_output\n",
    "\n",
    "def display_board(board):\n",
    "    clear_output()\n",
    "    print(' {:1} {:1} {:1} {:1} {:1}'.format(board[7], '|', board[8], '|', board[9]))\n",
    "    print('{}'.format(board[0]*11))\n",
    "    print(' {:1} {:1} {:1} {:1} {:1}'.format(board[4], '|', board[5], '|', board[6]))\n",
    "    print('{}'.format(board[0]*11))\n",
    "    print(' {:1} {:1} {:1} {:1} {:1}'.format(board[1], '|', board[2], '|', board[3]))"
   ]
  },
  {
   "cell_type": "markdown",
   "metadata": {},
   "source": [
    "A function that can take in a player input and assign their marker as 'X' or 'O'."
   ]
  },
  {
   "cell_type": "code",
   "execution_count": 3,
   "metadata": {},
   "outputs": [],
   "source": [
    "def player_input():\n",
    "    marker_set = ['X', 'O']\n",
    "    player_db = {\n",
    "        0: {\n",
    "            'order': None,\n",
    "            'marker': None,\n",
    "            'wins': 0,\n",
    "            'losses': 0,\n",
    "            'draws': 0\n",
    "        },\n",
    "        1: {\n",
    "            'order': None,\n",
    "            'marker': None,\n",
    "            'wins': 0,\n",
    "            'losses': 0,\n",
    "            'draws': 0\n",
    "        },\n",
    "        'quit': False\n",
    "    }\n",
    "    while True:\n",
    "        response = input(\"Ready Player One. Would you like to be X's or O's?\").lower()\n",
    "        if response in 'xo':\n",
    "            player_db[0]['marker'] = response.upper()\n",
    "            marker_set.remove(response.upper())\n",
    "            player_db[1]['marker'] = marker_set[0]\n",
    "            break\n",
    "        elif response == \"quit\":\n",
    "            player_db['quit'] = True\n",
    "            break\n",
    "    return(player_db)"
   ]
  },
  {
   "cell_type": "markdown",
   "metadata": {},
   "source": [
    "A function that takes in the board list object, a marker ('X' or 'O'), and a desired position (number 1-9) and assigns it to the board."
   ]
  },
  {
   "cell_type": "code",
   "execution_count": 5,
   "metadata": {},
   "outputs": [],
   "source": [
    "def place_marker(board, marker, position):\n",
    "    board[position] = marker\n",
    "    return(board)"
   ]
  },
  {
   "cell_type": "markdown",
   "metadata": {},
   "source": [
    "A function that takes in a board and a mark (X or O) and then checks to see if that mark has won."
   ]
  },
  {
   "cell_type": "code",
   "execution_count": 7,
   "metadata": {},
   "outputs": [],
   "source": [
    "def win_check(board):\n",
    "    win_conditions = {\n",
    "        1: [1,2,3],\n",
    "        2: [4,5,6],\n",
    "        3: [7,8,9],\n",
    "        4: [7,4,1],\n",
    "        5: [8,5,2],\n",
    "        6: [9,6,3],\n",
    "        7: [7,5,3],\n",
    "        8: [9,5,1]\n",
    "    }\n",
    "    \n",
    "    for k, v in win_conditions.items():\n",
    "        if (not board[v[0]] == \"\") and (board[v[0]] == board[v[1]] == board[v[2]]):\n",
    "            print('\\nWin Codition {} met'.format(k))\n",
    "            return(True)"
   ]
  },
  {
   "cell_type": "markdown",
   "metadata": {},
   "source": [
    "A function that randomly decide which player goes first."
   ]
  },
  {
   "cell_type": "code",
   "execution_count": 9,
   "metadata": {},
   "outputs": [],
   "source": [
    "import random\n",
    "\n",
    "def choose_first(player_db):\n",
    "    choice = random.randint(0,1)  \n",
    "    if choice == 0:\n",
    "        player_db[0]['order'] = 1\n",
    "        player_db[1]['order'] = 2\n",
    "    else:\n",
    "        player_db[1]['order'] = 1\n",
    "        player_db[0]['order'] = 2\n",
    "    print('Player {} goes first'.format(choice + 1))\n",
    "    return(player_db, choice)"
   ]
  },
  {
   "cell_type": "markdown",
   "metadata": {},
   "source": [
    "A function that returns a boolean indicating whether a space on the board is open"
   ]
  },
  {
   "cell_type": "code",
   "execution_count": 10,
   "metadata": {},
   "outputs": [],
   "source": [
    "def space_check(board, position):\n",
    "    return(board[position] == '')"
   ]
  },
  {
   "cell_type": "markdown",
   "metadata": {},
   "source": [
    "A function that checks if the board is full and returns a boolean value. True if full, False otherwise."
   ]
  },
  {
   "cell_type": "code",
   "execution_count": 12,
   "metadata": {},
   "outputs": [],
   "source": [
    "def full_board_check(board):\n",
    "    return(not '' in board[1:])"
   ]
  },
  {
   "cell_type": "markdown",
   "metadata": {},
   "source": [
    "A function that asks for a player's next position (as a number 1-9) and then uses the function from step 6 to check if it's a free position. If it is, then return the position for later use."
   ]
  },
  {
   "cell_type": "code",
   "execution_count": 14,
   "metadata": {},
   "outputs": [],
   "source": [
    "def player_choice(board):\n",
    "    while True:\n",
    "        response = input('Select your next move using the numpad (1-9).')\n",
    "        if response == 'quit':\n",
    "            break\n",
    "        else:\n",
    "            response = int(response)\n",
    "        if response in [1,2,3,4,5,6,7,8,9]:\n",
    "            if space_check(board, response):\n",
    "                break\n",
    "            else:\n",
    "                print(\"I'm sorry, that is not a valid move. Please pick another.\")\n",
    "    return(response)"
   ]
  },
  {
   "cell_type": "markdown",
   "metadata": {},
   "source": [
    "A function that asks the player if they want to play again and returns a boolean True if they do want to play again."
   ]
  },
  {
   "cell_type": "code",
   "execution_count": 16,
   "metadata": {},
   "outputs": [],
   "source": [
    "def replay():\n",
    "    response = input(\"Would you like to play again?\")\n",
    "    return(response.lower() == 'yes')"
   ]
  },
  {
   "cell_type": "markdown",
   "metadata": {
    "collapsed": true
   },
   "source": [
    "The engine to run the game!"
   ]
  },
  {
   "cell_type": "code",
   "execution_count": 17,
   "metadata": {},
   "outputs": [
    {
     "name": "stdout",
     "output_type": "stream",
     "text": [
      "   |   |  \n",
      "-----------\n",
      "   |   |  \n",
      "-----------\n",
      "   |   |  \n",
      "Ready Player One. Would you like to be X's or O's?quit\n",
      "\n",
      "Thanks for playing, see you next time!\n"
     ]
    }
   ],
   "source": [
    "print('Welcome to Tic Tac Toe!')\n",
    "board = ['-', '', '', '', '', '', '', '', '', '']\n",
    "game_on = True\n",
    "while True:\n",
    "    display_board(board)\n",
    "    player_db = player_input()\n",
    "    if player_db['quit'] == True:\n",
    "        print(\"\\nThanks for playing, see you next time!\")\n",
    "        break\n",
    "    player_db, first = choose_first(player_db)\n",
    "    player = first\n",
    "    while game_on:\n",
    "        if not full_board_check(board):\n",
    "            print(\"\\nPlayer {}'s turn!\".format(player + 1))\n",
    "            position = player_choice(board)\n",
    "            if position == 'quit':\n",
    "                print(\"\\nThanks for playing, see you next time!\")\n",
    "                break\n",
    "            board = place_marker(board, player_db[player]['marker'], position)\n",
    "            display_board(board)\n",
    "            if win_check(board):\n",
    "                print(\"Player {} wins!\".format(player + 1))\n",
    "                game_on = False\n",
    "            player += 1\n",
    "            player = (player % 2)\n",
    "        else:\n",
    "            print('\\nHmm... looks like a draw...\\n')\n",
    "            break\n",
    "\n",
    "    if not replay():\n",
    "        print(\"Thanks for playing, see you next time!\")\n",
    "        break\n",
    "    else:\n",
    "        board = ['-', '', '', '', '', '', '', '', '', '']\n",
    "        game_on = True"
   ]
  },
  {
   "cell_type": "markdown",
   "metadata": {
    "collapsed": true
   },
   "source": [
    "## Good Job!"
   ]
  }
 ],
 "metadata": {
  "kernelspec": {
   "display_name": "Python 3",
   "language": "python",
   "name": "python3"
  },
  "language_info": {
   "codemirror_mode": {
    "name": "ipython",
    "version": 3
   },
   "file_extension": ".py",
   "mimetype": "text/x-python",
   "name": "python",
   "nbconvert_exporter": "python",
   "pygments_lexer": "ipython3",
   "version": "3.7.3"
  }
 },
 "nbformat": 4,
 "nbformat_minor": 1
}
